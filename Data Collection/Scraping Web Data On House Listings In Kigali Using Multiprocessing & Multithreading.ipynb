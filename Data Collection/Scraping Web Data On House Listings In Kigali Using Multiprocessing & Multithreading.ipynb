{
 "cells": [
  {
   "cell_type": "markdown",
   "metadata": {},
   "source": [
    "# WebScrapping"
   ]
  },
  {
   "cell_type": "markdown",
   "metadata": {},
   "source": [
    "## Introduction \n",
    "\n",
    "The web is rich with almost each information one might desire. However, getting that information in usable format requires some work-around. To get some information associated with houses for sale, I have written the `links` module to scrape one website that list properties for sale with two main functions `find_all_links` that given the number of pages returns all hyperlinks on that page and `get_houses_info` that returns the house information given it url link. The modules uses the `requests` and `BeautifulSoup` libraries behind the scene. Getting each link at a time and associated information would take many hours. To speed up the process, I employs the `multi-threading` and `multi-processing` to perform some of the tasks in parallel using the `concurrent` library. "
   ]
  },
  {
   "cell_type": "code",
   "execution_count": 1,
   "metadata": {
    "ExecuteTime": {
     "end_time": "2021-03-16T07:02:57.030585Z",
     "start_time": "2021-03-16T07:02:54.622399Z"
    }
   },
   "outputs": [],
   "source": [
    "#importing important modules & libraries\n",
    "from links import get_houses_info, find_all_links\n",
    "from concurrent.futures import ThreadPoolExecutor, ProcessPoolExecutor, as_completed\n",
    "from itertools import chain\n",
    "import time\n",
    "import pandas as pd\n",
    "pd.options.display.max_columns = None\n",
    "pd.options.display.max_colwidth = None\n",
    "import requests\n",
    "from bs4 import BeautifulSoup\n",
    "import re\n",
    "from datetime import datetime\n",
    "import numpy as np"
   ]
  },
  {
   "cell_type": "markdown",
   "metadata": {},
   "source": [
    "## Links"
   ]
  },
  {
   "cell_type": "markdown",
   "metadata": {},
   "source": [
    "The websites that list properties have embedded links for more details about the listed property. The following lines of code get the links to the property's details given the number of pages.\n",
    "Because this requires to each page and get all the links to the property listed on that page, this fall into the I/O bound tasks. Therefore, the threads are ideal for such kind of tasks."
   ]
  },
  {
   "cell_type": "code",
   "execution_count": 2,
   "metadata": {
    "ExecuteTime": {
     "end_time": "2021-03-16T07:03:20.710184Z",
     "start_time": "2021-03-16T07:03:05.277749Z"
    }
   },
   "outputs": [],
   "source": [
    "#Threads\n",
    "with ThreadPoolExecutor(max_workers=20) as threads:\n",
    "    links = threads.map(find_all_links, range(100))\n",
    "    links = list(chain.from_iterable(links))"
   ]
  },
  {
   "cell_type": "markdown",
   "metadata": {},
   "source": [
    "## Data"
   ]
  },
  {
   "cell_type": "markdown",
   "metadata": {},
   "source": [
    "After retrieving all links to details of properties, it is time to visits the property's link and extract all the information related to the property such as the Date on which it was listed, Location, Price and other relevant information. This task not only requires to visit the link but also requires to processes the returned data by extracting the necessary information. That relies much on CPU which makes it the CPU bound task. Therefore the processes are used. "
   ]
  },
  {
   "cell_type": "code",
   "execution_count": 3,
   "metadata": {
    "ExecuteTime": {
     "end_time": "2021-03-16T07:24:26.717385Z",
     "start_time": "2021-03-16T07:03:25.731670Z"
    }
   },
   "outputs": [],
   "source": [
    "#Processes\n",
    "with ProcessPoolExecutor(max_workers=25) as processes:\n",
    "    data1 = processes.map(get_houses_info, links)\n",
    "    data1 = list(data1)"
   ]
  },
  {
   "cell_type": "code",
   "execution_count": 4,
   "metadata": {
    "ExecuteTime": {
     "end_time": "2021-03-16T07:24:58.099769Z",
     "start_time": "2021-03-16T07:24:57.958971Z"
    }
   },
   "outputs": [
    {
     "data": {
      "text/html": [
       "<div>\n",
       "<style scoped>\n",
       "    .dataframe tbody tr th:only-of-type {\n",
       "        vertical-align: middle;\n",
       "    }\n",
       "\n",
       "    .dataframe tbody tr th {\n",
       "        vertical-align: top;\n",
       "    }\n",
       "\n",
       "    .dataframe thead th {\n",
       "        text-align: right;\n",
       "    }\n",
       "</style>\n",
       "<table border=\"1\" class=\"dataframe\">\n",
       "  <thead>\n",
       "    <tr style=\"text-align: right;\">\n",
       "      <th></th>\n",
       "      <th>Date</th>\n",
       "      <th>Link</th>\n",
       "      <th>Price</th>\n",
       "      <th>Location</th>\n",
       "      <th>Details</th>\n",
       "    </tr>\n",
       "  </thead>\n",
       "  <tbody>\n",
       "    <tr>\n",
       "      <th>0</th>\n",
       "      <td>16-Mar-2021</td>\n",
       "      <td>https://www.imali.biz/announce-24-134296.html</td>\n",
       "      <td>100 000 000 Rwf</td>\n",
       "      <td>Kigali -ndera hafi na 15, hafi na free zone</td>\n",
       "      <td>DUFITE INZU ZiGURISHWA  INDERA HAFI NA FREE ZONE HAFI NOKURI 15 KUVA KURI KABURIMBO UYIGERAHO NI MINOTA 3, NAHANTU HEZA CYANE UBA UREBA  KANOMBE YOSE  ✅ Izi nzu ziri MUKIBANZA kinini cyane gikora kumihanda 2 Gifite Ubuso 1558sqm,✅Izi nzu zifite imiryango 25 Yinjiza Amafaranga .✅ Izi nzu zifite imiryango 4 Yubucuruzi.✅ Inzu Nini ifite ibyumba 6,salo , toilet, Parking nibindi.✅ INZU ZOSE ZIKODESHWA IBIHUMBI 600K UKUYEMO INZU NINI . Ikindi nuko izinzu ziri ahantu heza mubaturanyi beza ahantu Hari kubakwa  Amazu meza .✅Igiciro zigurishwa Ni Millions 100, ☎️KUBINDI BISOBANURO WADUHAMAGARA KURI+250788236675.  DUFITE NIZINDI NZU NYINSHI TUGURISHA TUKAZIKODESHA.</td>\n",
       "    </tr>\n",
       "    <tr>\n",
       "      <th>1</th>\n",
       "      <td>16-Mar-2021</td>\n",
       "      <td>https://www.imali.biz/announce-24-134294.html</td>\n",
       "      <td>35 000 000 Rwf</td>\n",
       "      <td>Kigali masoro million 35</td>\n",
       "      <td>Ndagurisha ahantu heza harimo imiryango 23 imasoro nahantu harimo imiryango 23 harimo ni miryango yubucuruzi ku muhanda hagurishwa millions 35 hinjiza ibihumbi magana ane 400 iyi nimari ntigucike uhashaka hamagara tel :0784969631 dufite nandi mazu agurishwa menshi atandukanye kd meza cyane adahenze</td>\n",
       "    </tr>\n",
       "    <tr>\n",
       "      <th>2</th>\n",
       "      <td>16-Mar-2021</td>\n",
       "      <td>https://www.imali.biz/announce-24-134293.html</td>\n",
       "      <td>5 500 000 Rwf</td>\n",
       "      <td>Kigali kimironko musave gasabo</td>\n",
       "      <td>Ndagurisha inzu nziza ku mafaranga make cyane udahenzwe igurishwa million 5,500,000 iri kumuhanda musave mumurenge wa bumbogo akarere ka gasabo umugi wa kigali iyi nimari ntigucike uyishaka hamagara tel: 0784969631 dufite nandi mazu agurishwa menshi atandukanye kd meza cyane adahenze</td>\n",
       "    </tr>\n",
       "    <tr>\n",
       "      <th>3</th>\n",
       "      <td>16-Mar-2021</td>\n",
       "      <td>https://www.imali.biz/announce-24-134289.html</td>\n",
       "      <td>45 000 000 Rwf</td>\n",
       "      <td>Kigali kimironko kinyaga</td>\n",
       "      <td>Ndagurisha inzu nziza cyane ikomeye iri hafi nuruganda rwa Azam mukinyaga hafi Ni midugudu ya sekimondo iri hafi na kaburimbo igurishwa million 45 ifite chambre 4 tuwarete 3 sallon salle Ã  manger nigikoni munzu yubakishije amatafari ahiye uyishaka hamagara tel :0784969631 dufite nandi mazu agurishwa menshi atandukanye kd meza cyane adahenze</td>\n",
       "    </tr>\n",
       "    <tr>\n",
       "      <th>4</th>\n",
       "      <td>16-Mar-2021</td>\n",
       "      <td>https://www.imali.biz/announce-24-134288.html</td>\n",
       "      <td>17 000 000 Rwf</td>\n",
       "      <td>Kigali kimironko musave gasabo</td>\n",
       "      <td>Ndagurisha ahantu heza harimo inzu eshatu 3 hafi nuruganda rwa Azam hafi na kagari ka musave nahantu harimo inzu eshatu 3 hafite pariseri m45 m30 ni kumuhanda hagurishwa million 17 hemewe kubakwa nimuri R1 iyi nimari ntigucike uzishaka hamagara tel :0784969631 dufite nandi mazu agurishwa menshi atandukanye kd meza cyane adahenze</td>\n",
       "    </tr>\n",
       "  </tbody>\n",
       "</table>\n",
       "</div>"
      ],
      "text/plain": [
       "           Date                                           Link  \\\n",
       "0   16-Mar-2021  https://www.imali.biz/announce-24-134296.html   \n",
       "1   16-Mar-2021  https://www.imali.biz/announce-24-134294.html   \n",
       "2   16-Mar-2021  https://www.imali.biz/announce-24-134293.html   \n",
       "3   16-Mar-2021  https://www.imali.biz/announce-24-134289.html   \n",
       "4   16-Mar-2021  https://www.imali.biz/announce-24-134288.html   \n",
       "\n",
       "             Price                                     Location  \\\n",
       "0  100 000 000 Rwf  Kigali -ndera hafi na 15, hafi na free zone   \n",
       "1   35 000 000 Rwf                     Kigali masoro million 35   \n",
       "2    5 500 000 Rwf               Kigali kimironko musave gasabo   \n",
       "3   45 000 000 Rwf                     Kigali kimironko kinyaga   \n",
       "4   17 000 000 Rwf               Kigali kimironko musave gasabo   \n",
       "\n",
       "                                                                                                                                                                                                                                                                                                                                                                                                                                                                                                                                                                                                                                                                                  Details  \n",
       "0  DUFITE INZU ZiGURISHWA  INDERA HAFI NA FREE ZONE HAFI NOKURI 15 KUVA KURI KABURIMBO UYIGERAHO NI MINOTA 3, NAHANTU HEZA CYANE UBA UREBA  KANOMBE YOSE  ✅ Izi nzu ziri MUKIBANZA kinini cyane gikora kumihanda 2 Gifite Ubuso 1558sqm,✅Izi nzu zifite imiryango 25 Yinjiza Amafaranga .✅ Izi nzu zifite imiryango 4 Yubucuruzi.✅ Inzu Nini ifite ibyumba 6,salo , toilet, Parking nibindi.✅ INZU ZOSE ZIKODESHWA IBIHUMBI 600K UKUYEMO INZU NINI . Ikindi nuko izinzu ziri ahantu heza mubaturanyi beza ahantu Hari kubakwa  Amazu meza .✅Igiciro zigurishwa Ni Millions 100, ☎️KUBINDI BISOBANURO WADUHAMAGARA KURI+250788236675.  DUFITE NIZINDI NZU NYINSHI TUGURISHA TUKAZIKODESHA.  \n",
       "1                                                                                                                                                                                                                                                                                                                                                                             Ndagurisha ahantu heza harimo imiryango 23 imasoro nahantu harimo imiryango 23 harimo ni miryango yubucuruzi ku muhanda hagurishwa millions 35 hinjiza ibihumbi magana ane 400 iyi nimari ntigucike uhashaka hamagara tel :0784969631 dufite nandi mazu agurishwa menshi atandukanye kd meza cyane adahenze  \n",
       "2                                                                                                                                                                                                                                                                                                                                                                                            Ndagurisha inzu nziza ku mafaranga make cyane udahenzwe igurishwa million 5,500,000 iri kumuhanda musave mumurenge wa bumbogo akarere ka gasabo umugi wa kigali iyi nimari ntigucike uyishaka hamagara tel: 0784969631 dufite nandi mazu agurishwa menshi atandukanye kd meza cyane adahenze  \n",
       "3                                                                                                                                                                                                                                                                                                                                 Ndagurisha inzu nziza cyane ikomeye iri hafi nuruganda rwa Azam mukinyaga hafi Ni midugudu ya sekimondo iri hafi na kaburimbo igurishwa million 45 ifite chambre 4 tuwarete 3 sallon salle Ã  manger nigikoni munzu yubakishije amatafari ahiye uyishaka hamagara tel :0784969631 dufite nandi mazu agurishwa menshi atandukanye kd meza cyane adahenze  \n",
       "4                                                                                                                                                                                                                                                                                                                                              Ndagurisha ahantu heza harimo inzu eshatu 3 hafi nuruganda rwa Azam hafi na kagari ka musave nahantu harimo inzu eshatu 3 hafite pariseri m45 m30 ni kumuhanda hagurishwa million 17 hemewe kubakwa nimuri R1 iyi nimari ntigucike uzishaka hamagara tel :0784969631 dufite nandi mazu agurishwa menshi atandukanye kd meza cyane adahenze  "
      ]
     },
     "execution_count": 4,
     "metadata": {},
     "output_type": "execute_result"
    }
   ],
   "source": [
    "#Converting the returned info into a dataframe\n",
    "imali = pd.DataFrame(data1, columns = ['Date','Link','Price','Location','Details'])\n",
    "imali.head()"
   ]
  },
  {
   "cell_type": "markdown",
   "metadata": {},
   "source": [
    "# CLEANING\n",
    "\n",
    "This part relies heavily on the regular expressions module to extract information such as Number of bedrooms, Number of bathrooms, the plot size, whether the house has the built-in wardrobes, modern kitchen, parking and boys' quarters."
   ]
  },
  {
   "cell_type": "code",
   "execution_count": 5,
   "metadata": {
    "ExecuteTime": {
     "end_time": "2021-03-16T07:26:42.962237Z",
     "start_time": "2021-03-16T07:26:42.944705Z"
    }
   },
   "outputs": [],
   "source": [
    "##################################Extracting the number of bedrooms#########################\n",
    "def extract_bedrooms(text):\n",
    "    \"\"\"Extracts the number of bedrooms written in different variations\"\"\"\n",
    "    \n",
    "    bedrooms1 = r'(\\d+)-?\\s*-?(?:bed\\s?rooms?|rooms?)'\n",
    "    bedrooms2 = r'(?:ibyumba|chambres?)\\s*(\\d)'\n",
    "    \n",
    "    b1 = re.findall(bedrooms1, text, re.I) \n",
    "    \n",
    "    if len(b1) > 0:\n",
    "        rooms = b1[0]\n",
    "    else:\n",
    "        b2 = re.findall(bedrooms2, text, re.I)\n",
    "        if len(b2) > 0:\n",
    "            rooms = b2[0]\n",
    "        else:\n",
    "            rooms = np.nan\n",
    "    \n",
    "    return rooms\n",
    "###########################Extracting the number of bathrooms###############################################################\n",
    "def extract_bathrooms(text):\n",
    "    bathrooms1 = r'(\\d+)-?\\s*-?(?:bathrooms?|restrooms?|bath|bothrooms?)'\n",
    "    bathrooms2 = r'(?:toilets?|douches?|toilettes?|tuwareti|tuwarete|ubwiherero)\\s*(\\d)'\n",
    "    b1 = re.findall(bathrooms1, text, re.I) \n",
    "    \n",
    "    if len(b1) > 0:\n",
    "        bathrooms = b1[0]\n",
    "    else:\n",
    "        b2 = re.findall(bathrooms2, text, re.I)\n",
    "        if len(b2) > 0:\n",
    "            bathrooms = b2[0]\n",
    "        else:\n",
    "            bathrooms3 = r'(toilets?|douches?|toilettes?|tuwareti|tuwarete|ubwiherero|bathrooms?|bath)'\n",
    "            b3 = re.findall(bathrooms3, text, re.I)\n",
    "            if len(b3) > 0:\n",
    "                bathrooms = '1'\n",
    "            else:\n",
    "                bathrooms = np.nan\n",
    "    \n",
    "    return bathrooms\n",
    "##############################################Extracting the plotsize#####################################################\n",
    "def extract_plotsize(text):\n",
    "    plotsize1 = r'(?:spaceplotsize|plotsize|plot size|plotize).*?(\\d+.{0,2}\\d*.)'\n",
    "    plotsize2 = r'(\\b\\d{,2}/\\d{,2}\\b)'\n",
    "    plotsize3 = r'(\\d+\\s*sqm)'\n",
    "    plotsize4 = r'(sqm\\s*\\d+)'\n",
    "    \n",
    "    p1 = re.findall(plotsize1, text, re.I)\n",
    "    p2 = re.findall(plotsize2, text, re.I)\n",
    "    p3 = re.findall(plotsize3, text, re.I)\n",
    "    p4 = re.findall(plotsize4, text, re.I)\n",
    "    \n",
    "    if len(p1) > 0:\n",
    "        size = p1[0]\n",
    "    elif len(p2) > 0:\n",
    "        size = p2[0]    \n",
    "    elif len(p3) > 0:\n",
    "        size = p3[0]\n",
    "    elif len(p4) > 0:\n",
    "        size = p4[0]\n",
    "    else:\n",
    "        size = np.nan\n",
    "            \n",
    "    return size\n",
    "##################################Checking if has boys quarters or annexes#########################\n",
    "def extract_quarters(text):\n",
    "    boys = r'(boys?)'\n",
    "    annexes = r'(Annex[es]?|anegisi)'\n",
    "    maids = r'(maids?|servants?|keeper)'\n",
    "    a = re.findall(annexes, text, re.I)\n",
    "    b = re.findall(boys, text, re.I)\n",
    "    m = re.findall(maids, text, re.I)\n",
    "    \n",
    "    if len(a) > 0:\n",
    "        quarters = 'Yes'\n",
    "    elif len(b) > 0:\n",
    "        quarters = 'Yes'\n",
    "    elif len(m) > 0:\n",
    "        quarters = 'Yes'\n",
    "    else:\n",
    "        quarters = np.nan\n",
    "    return quarters"
   ]
  },
  {
   "cell_type": "code",
   "execution_count": 7,
   "metadata": {
    "ExecuteTime": {
     "end_time": "2021-03-16T07:26:56.147229Z",
     "start_time": "2021-03-16T07:26:55.291089Z"
    }
   },
   "outputs": [],
   "source": [
    "imali['Size'] = imali['Details'].apply(extract_plotsize)\n",
    "imali['Bedrooms'] = imali['Details'].apply(extract_bedrooms)\n",
    "imali['Bathrooms'] = imali['Details'].apply(extract_bathrooms)\n",
    "imali['Quarters'] = imali['Details'].apply(extract_quarters)\n",
    "imali['Wardrobes'] = imali['Details'].str.extract(r'(Wardrobes?)',re.I)\n",
    "imali['Cabinets'] = imali['Details'].str.extract(r'(cabinets?)', re.I)\n",
    "imali['Balcony'] = imali['Details'].str.extract(r'(Balcony)',re.I)\n",
    "imali['Parking'] = imali['Details'].str.extract(r'(parking|pariking|parikingi)', re.I)"
   ]
  },
  {
   "cell_type": "code",
   "execution_count": 8,
   "metadata": {
    "ExecuteTime": {
     "end_time": "2021-03-16T07:26:59.724563Z",
     "start_time": "2021-03-16T07:26:59.694402Z"
    }
   },
   "outputs": [],
   "source": [
    "imali['Parking'] = imali['Parking'].apply(lambda x: 'Yes' if str(x) != 'nan' else x)\n",
    "imali['Balcony'] = imali['Balcony'].apply(lambda x: 'Yes' if str(x)!='nan' else x)\n",
    "imali['Cabinets'] = imali['Cabinets'].apply(lambda x: 'Yes' if str(x)!='nan' else x)\n",
    "imali['Wardrobes'] = imali['Wardrobes'].apply(lambda x: 'Yes' if str(x)!='nan' else x)"
   ]
  },
  {
   "cell_type": "code",
   "execution_count": 9,
   "metadata": {
    "ExecuteTime": {
     "end_time": "2021-03-16T07:27:02.818215Z",
     "start_time": "2021-03-16T07:27:02.778612Z"
    }
   },
   "outputs": [
    {
     "data": {
      "text/html": [
       "<div>\n",
       "<style scoped>\n",
       "    .dataframe tbody tr th:only-of-type {\n",
       "        vertical-align: middle;\n",
       "    }\n",
       "\n",
       "    .dataframe tbody tr th {\n",
       "        vertical-align: top;\n",
       "    }\n",
       "\n",
       "    .dataframe thead th {\n",
       "        text-align: right;\n",
       "    }\n",
       "</style>\n",
       "<table border=\"1\" class=\"dataframe\">\n",
       "  <thead>\n",
       "    <tr style=\"text-align: right;\">\n",
       "      <th></th>\n",
       "      <th>Date</th>\n",
       "      <th>Link</th>\n",
       "      <th>Price</th>\n",
       "      <th>Location</th>\n",
       "      <th>Details</th>\n",
       "      <th>Size</th>\n",
       "      <th>Bedrooms</th>\n",
       "      <th>Bathrooms</th>\n",
       "      <th>Quarters</th>\n",
       "      <th>Wardrobes</th>\n",
       "      <th>Cabinets</th>\n",
       "      <th>Balcony</th>\n",
       "      <th>Parking</th>\n",
       "    </tr>\n",
       "  </thead>\n",
       "  <tbody>\n",
       "    <tr>\n",
       "      <th>0</th>\n",
       "      <td>16-Mar-2021</td>\n",
       "      <td>https://www.imali.biz/announce-24-134296.html</td>\n",
       "      <td>100 000 000 Rwf</td>\n",
       "      <td>Kigali -ndera hafi na 15, hafi na free zone</td>\n",
       "      <td>DUFITE INZU ZiGURISHWA  INDERA HAFI NA FREE ZONE HAFI NOKURI 15 KUVA KURI KABURIMBO UYIGERAHO NI MINOTA 3, NAHANTU HEZA CYANE UBA UREBA  KANOMBE YOSE  ✅ Izi nzu ziri MUKIBANZA kinini cyane gikora kumihanda 2 Gifite Ubuso 1558sqm,✅Izi nzu zifite imiryango 25 Yinjiza Amafaranga .✅ Izi nzu zifite imiryango 4 Yubucuruzi.✅ Inzu Nini ifite ibyumba 6,salo , toilet, Parking nibindi.✅ INZU ZOSE ZIKODESHWA IBIHUMBI 600K UKUYEMO INZU NINI . Ikindi nuko izinzu ziri ahantu heza mubaturanyi beza ahantu Hari kubakwa  Amazu meza .✅Igiciro zigurishwa Ni Millions 100, ☎️KUBINDI BISOBANURO WADUHAMAGARA KURI+250788236675.  DUFITE NIZINDI NZU NYINSHI TUGURISHA TUKAZIKODESHA.</td>\n",
       "      <td>1558sqm</td>\n",
       "      <td>6</td>\n",
       "      <td>1</td>\n",
       "      <td>NaN</td>\n",
       "      <td>NaN</td>\n",
       "      <td>NaN</td>\n",
       "      <td>NaN</td>\n",
       "      <td>Yes</td>\n",
       "    </tr>\n",
       "    <tr>\n",
       "      <th>1</th>\n",
       "      <td>16-Mar-2021</td>\n",
       "      <td>https://www.imali.biz/announce-24-134294.html</td>\n",
       "      <td>35 000 000 Rwf</td>\n",
       "      <td>Kigali masoro million 35</td>\n",
       "      <td>Ndagurisha ahantu heza harimo imiryango 23 imasoro nahantu harimo imiryango 23 harimo ni miryango yubucuruzi ku muhanda hagurishwa millions 35 hinjiza ibihumbi magana ane 400 iyi nimari ntigucike uhashaka hamagara tel :0784969631 dufite nandi mazu agurishwa menshi atandukanye kd meza cyane adahenze</td>\n",
       "      <td>NaN</td>\n",
       "      <td>NaN</td>\n",
       "      <td>NaN</td>\n",
       "      <td>NaN</td>\n",
       "      <td>NaN</td>\n",
       "      <td>NaN</td>\n",
       "      <td>NaN</td>\n",
       "      <td>NaN</td>\n",
       "    </tr>\n",
       "    <tr>\n",
       "      <th>2</th>\n",
       "      <td>16-Mar-2021</td>\n",
       "      <td>https://www.imali.biz/announce-24-134293.html</td>\n",
       "      <td>5 500 000 Rwf</td>\n",
       "      <td>Kigali kimironko musave gasabo</td>\n",
       "      <td>Ndagurisha inzu nziza ku mafaranga make cyane udahenzwe igurishwa million 5,500,000 iri kumuhanda musave mumurenge wa bumbogo akarere ka gasabo umugi wa kigali iyi nimari ntigucike uyishaka hamagara tel: 0784969631 dufite nandi mazu agurishwa menshi atandukanye kd meza cyane adahenze</td>\n",
       "      <td>NaN</td>\n",
       "      <td>NaN</td>\n",
       "      <td>NaN</td>\n",
       "      <td>NaN</td>\n",
       "      <td>NaN</td>\n",
       "      <td>NaN</td>\n",
       "      <td>NaN</td>\n",
       "      <td>NaN</td>\n",
       "    </tr>\n",
       "    <tr>\n",
       "      <th>3</th>\n",
       "      <td>16-Mar-2021</td>\n",
       "      <td>https://www.imali.biz/announce-24-134289.html</td>\n",
       "      <td>45 000 000 Rwf</td>\n",
       "      <td>Kigali kimironko kinyaga</td>\n",
       "      <td>Ndagurisha inzu nziza cyane ikomeye iri hafi nuruganda rwa Azam mukinyaga hafi Ni midugudu ya sekimondo iri hafi na kaburimbo igurishwa million 45 ifite chambre 4 tuwarete 3 sallon salle Ã  manger nigikoni munzu yubakishije amatafari ahiye uyishaka hamagara tel :0784969631 dufite nandi mazu agurishwa menshi atandukanye kd meza cyane adahenze</td>\n",
       "      <td>NaN</td>\n",
       "      <td>4</td>\n",
       "      <td>3</td>\n",
       "      <td>NaN</td>\n",
       "      <td>NaN</td>\n",
       "      <td>NaN</td>\n",
       "      <td>NaN</td>\n",
       "      <td>NaN</td>\n",
       "    </tr>\n",
       "    <tr>\n",
       "      <th>4</th>\n",
       "      <td>16-Mar-2021</td>\n",
       "      <td>https://www.imali.biz/announce-24-134288.html</td>\n",
       "      <td>17 000 000 Rwf</td>\n",
       "      <td>Kigali kimironko musave gasabo</td>\n",
       "      <td>Ndagurisha ahantu heza harimo inzu eshatu 3 hafi nuruganda rwa Azam hafi na kagari ka musave nahantu harimo inzu eshatu 3 hafite pariseri m45 m30 ni kumuhanda hagurishwa million 17 hemewe kubakwa nimuri R1 iyi nimari ntigucike uzishaka hamagara tel :0784969631 dufite nandi mazu agurishwa menshi atandukanye kd meza cyane adahenze</td>\n",
       "      <td>NaN</td>\n",
       "      <td>NaN</td>\n",
       "      <td>NaN</td>\n",
       "      <td>NaN</td>\n",
       "      <td>NaN</td>\n",
       "      <td>NaN</td>\n",
       "      <td>NaN</td>\n",
       "      <td>NaN</td>\n",
       "    </tr>\n",
       "    <tr>\n",
       "      <th>...</th>\n",
       "      <td>...</td>\n",
       "      <td>...</td>\n",
       "      <td>...</td>\n",
       "      <td>...</td>\n",
       "      <td>...</td>\n",
       "      <td>...</td>\n",
       "      <td>...</td>\n",
       "      <td>...</td>\n",
       "      <td>...</td>\n",
       "      <td>...</td>\n",
       "      <td>...</td>\n",
       "      <td>...</td>\n",
       "      <td>...</td>\n",
       "    </tr>\n",
       "    <tr>\n",
       "      <th>2595</th>\n",
       "      <td>20-Nov-2020</td>\n",
       "      <td>https://www.imali.biz/announce-24-127569.html</td>\n",
       "      <td>200 000 000 Rwf</td>\n",
       "      <td>Kacyiru down American Embassy</td>\n",
       "      <td>Beautiful house is available for sale at kacyiru just down American Embassy and Good neighborhood. In very good secured and nice view. It has sitting and dinningroom, 5bedrooms, 4bathrooms, kitchen, store, out side annex with boy quarters, Big garden and parking within a big plot of 1500sqm Price:200millionsFor more details contact us on: +250788225193/+250788225193/+250738225193 or send an e-mail to: jerremyd2002@yahoo.fr7 NOVA CONSTRUCTION LTDMob: 0788225193 Whatsapp: 0738225193Location: Our office is located in Downtown at KN87 Street, Nyarugenge, 2nd floor Beatitude house just near Hotel Okapi.</td>\n",
       "      <td>1500sqm</td>\n",
       "      <td>5</td>\n",
       "      <td>4</td>\n",
       "      <td>Yes</td>\n",
       "      <td>NaN</td>\n",
       "      <td>NaN</td>\n",
       "      <td>NaN</td>\n",
       "      <td>Yes</td>\n",
       "    </tr>\n",
       "    <tr>\n",
       "      <th>2596</th>\n",
       "      <td>20-Nov-2020</td>\n",
       "      <td>https://www.imali.biz/announce-24-127568.html</td>\n",
       "      <td>32 000 000 Rwf</td>\n",
       "      <td>kigali</td>\n",
       "      <td>Ifite ibyumba 3nasaro nasara manjenadushe natuwarete 2nannexeskubindi biso banuro +250785477479</td>\n",
       "      <td>NaN</td>\n",
       "      <td>3</td>\n",
       "      <td>2</td>\n",
       "      <td>Yes</td>\n",
       "      <td>NaN</td>\n",
       "      <td>NaN</td>\n",
       "      <td>NaN</td>\n",
       "      <td>NaN</td>\n",
       "    </tr>\n",
       "    <tr>\n",
       "      <th>2597</th>\n",
       "      <td>20-Nov-2020</td>\n",
       "      <td>https://www.imali.biz/announce-24-127566.html</td>\n",
       "      <td>58 000 000 Rwf</td>\n",
       "      <td>kanombe kigali VIP</td>\n",
       "      <td>Negotiable house for Sale at Kanombe on the main road:5bedrooms, 3bedrooms, dinning and sitting room , modern kitchen , annex, boy's quarters, garden, on the main road.Call Omar:0784842444Price:58,000,000RwfN.B: price is negotiable downwww.kigalidealer.com</td>\n",
       "      <td>NaN</td>\n",
       "      <td>5</td>\n",
       "      <td>NaN</td>\n",
       "      <td>Yes</td>\n",
       "      <td>NaN</td>\n",
       "      <td>NaN</td>\n",
       "      <td>NaN</td>\n",
       "      <td>NaN</td>\n",
       "    </tr>\n",
       "    <tr>\n",
       "      <th>2598</th>\n",
       "      <td>20-Nov-2020</td>\n",
       "      <td>https://www.imali.biz/announce-24-127565.html</td>\n",
       "      <td>200 000 000 Rwf</td>\n",
       "      <td>kigali</td>\n",
       "      <td>Ifite ibyumba 5nasaro nasara manje nadushe natuwarete 4nannexes kubindi bisobanuro +250784455496 /0785477479</td>\n",
       "      <td>NaN</td>\n",
       "      <td>5</td>\n",
       "      <td>4</td>\n",
       "      <td>Yes</td>\n",
       "      <td>NaN</td>\n",
       "      <td>NaN</td>\n",
       "      <td>NaN</td>\n",
       "      <td>NaN</td>\n",
       "    </tr>\n",
       "    <tr>\n",
       "      <th>2599</th>\n",
       "      <td>20-Nov-2020</td>\n",
       "      <td>https://www.imali.biz/announce-24-127562.html</td>\n",
       "      <td>180 000 000 Rwf</td>\n",
       "      <td>kigali</td>\n",
       "      <td>Ifite ibyumba 5nasaro nasara  nadushe natuwarete 4nakwizi nannexes+250785477479 /0784455496</td>\n",
       "      <td>NaN</td>\n",
       "      <td>5</td>\n",
       "      <td>4</td>\n",
       "      <td>Yes</td>\n",
       "      <td>NaN</td>\n",
       "      <td>NaN</td>\n",
       "      <td>NaN</td>\n",
       "      <td>NaN</td>\n",
       "    </tr>\n",
       "  </tbody>\n",
       "</table>\n",
       "<p>2600 rows × 13 columns</p>\n",
       "</div>"
      ],
      "text/plain": [
       "              Date                                           Link  \\\n",
       "0      16-Mar-2021  https://www.imali.biz/announce-24-134296.html   \n",
       "1      16-Mar-2021  https://www.imali.biz/announce-24-134294.html   \n",
       "2      16-Mar-2021  https://www.imali.biz/announce-24-134293.html   \n",
       "3      16-Mar-2021  https://www.imali.biz/announce-24-134289.html   \n",
       "4      16-Mar-2021  https://www.imali.biz/announce-24-134288.html   \n",
       "...            ...                                            ...   \n",
       "2595   20-Nov-2020  https://www.imali.biz/announce-24-127569.html   \n",
       "2596   20-Nov-2020  https://www.imali.biz/announce-24-127568.html   \n",
       "2597   20-Nov-2020  https://www.imali.biz/announce-24-127566.html   \n",
       "2598   20-Nov-2020  https://www.imali.biz/announce-24-127565.html   \n",
       "2599   20-Nov-2020  https://www.imali.biz/announce-24-127562.html   \n",
       "\n",
       "                Price                                     Location  \\\n",
       "0     100 000 000 Rwf  Kigali -ndera hafi na 15, hafi na free zone   \n",
       "1      35 000 000 Rwf                     Kigali masoro million 35   \n",
       "2       5 500 000 Rwf               Kigali kimironko musave gasabo   \n",
       "3      45 000 000 Rwf                     Kigali kimironko kinyaga   \n",
       "4      17 000 000 Rwf               Kigali kimironko musave gasabo   \n",
       "...               ...                                          ...   \n",
       "2595  200 000 000 Rwf                Kacyiru down American Embassy   \n",
       "2596   32 000 000 Rwf                                       kigali   \n",
       "2597   58 000 000 Rwf                           kanombe kigali VIP   \n",
       "2598  200 000 000 Rwf                                       kigali   \n",
       "2599  180 000 000 Rwf                                       kigali   \n",
       "\n",
       "                                                                                                                                                                                                                                                                                                                                                                                                                                                                                                                                                                                                                                                                                     Details  \\\n",
       "0     DUFITE INZU ZiGURISHWA  INDERA HAFI NA FREE ZONE HAFI NOKURI 15 KUVA KURI KABURIMBO UYIGERAHO NI MINOTA 3, NAHANTU HEZA CYANE UBA UREBA  KANOMBE YOSE  ✅ Izi nzu ziri MUKIBANZA kinini cyane gikora kumihanda 2 Gifite Ubuso 1558sqm,✅Izi nzu zifite imiryango 25 Yinjiza Amafaranga .✅ Izi nzu zifite imiryango 4 Yubucuruzi.✅ Inzu Nini ifite ibyumba 6,salo , toilet, Parking nibindi.✅ INZU ZOSE ZIKODESHWA IBIHUMBI 600K UKUYEMO INZU NINI . Ikindi nuko izinzu ziri ahantu heza mubaturanyi beza ahantu Hari kubakwa  Amazu meza .✅Igiciro zigurishwa Ni Millions 100, ☎️KUBINDI BISOBANURO WADUHAMAGARA KURI+250788236675.  DUFITE NIZINDI NZU NYINSHI TUGURISHA TUKAZIKODESHA.   \n",
       "1                                                                                                                                                                                                                                                                                                                                                                                Ndagurisha ahantu heza harimo imiryango 23 imasoro nahantu harimo imiryango 23 harimo ni miryango yubucuruzi ku muhanda hagurishwa millions 35 hinjiza ibihumbi magana ane 400 iyi nimari ntigucike uhashaka hamagara tel :0784969631 dufite nandi mazu agurishwa menshi atandukanye kd meza cyane adahenze   \n",
       "2                                                                                                                                                                                                                                                                                                                                                                                               Ndagurisha inzu nziza ku mafaranga make cyane udahenzwe igurishwa million 5,500,000 iri kumuhanda musave mumurenge wa bumbogo akarere ka gasabo umugi wa kigali iyi nimari ntigucike uyishaka hamagara tel: 0784969631 dufite nandi mazu agurishwa menshi atandukanye kd meza cyane adahenze   \n",
       "3                                                                                                                                                                                                                                                                                                                                    Ndagurisha inzu nziza cyane ikomeye iri hafi nuruganda rwa Azam mukinyaga hafi Ni midugudu ya sekimondo iri hafi na kaburimbo igurishwa million 45 ifite chambre 4 tuwarete 3 sallon salle Ã  manger nigikoni munzu yubakishije amatafari ahiye uyishaka hamagara tel :0784969631 dufite nandi mazu agurishwa menshi atandukanye kd meza cyane adahenze   \n",
       "4                                                                                                                                                                                                                                                                                                                                                 Ndagurisha ahantu heza harimo inzu eshatu 3 hafi nuruganda rwa Azam hafi na kagari ka musave nahantu harimo inzu eshatu 3 hafite pariseri m45 m30 ni kumuhanda hagurishwa million 17 hemewe kubakwa nimuri R1 iyi nimari ntigucike uzishaka hamagara tel :0784969631 dufite nandi mazu agurishwa menshi atandukanye kd meza cyane adahenze   \n",
       "...                                                                                                                                                                                                                                                                                                                                                                                                                                                                                                                                                                                                                                                                                      ...   \n",
       "2595                                                           Beautiful house is available for sale at kacyiru just down American Embassy and Good neighborhood. In very good secured and nice view. It has sitting and dinningroom, 5bedrooms, 4bathrooms, kitchen, store, out side annex with boy quarters, Big garden and parking within a big plot of 1500sqm Price:200millionsFor more details contact us on: +250788225193/+250788225193/+250738225193 or send an e-mail to: jerremyd2002@yahoo.fr7 NOVA CONSTRUCTION LTDMob: 0788225193 Whatsapp: 0738225193Location: Our office is located in Downtown at KN87 Street, Nyarugenge, 2nd floor Beatitude house just near Hotel Okapi.   \n",
       "2596                                                                                                                                                                                                                                                                                                                                                                                                                                                                                                                                                                                         Ifite ibyumba 3nasaro nasara manjenadushe natuwarete 2nannexeskubindi biso banuro +250785477479   \n",
       "2597                                                                                                                                                                                                                                                                                                                                                                                                                        Negotiable house for Sale at Kanombe on the main road:5bedrooms, 3bedrooms, dinning and sitting room , modern kitchen , annex, boy's quarters, garden, on the main road.Call Omar:0784842444Price:58,000,000RwfN.B: price is negotiable downwww.kigalidealer.com   \n",
       "2598                                                                                                                                                                                                                                                                                                                                                                                                                                                                                                                                                                            Ifite ibyumba 5nasaro nasara manje nadushe natuwarete 4nannexes kubindi bisobanuro +250784455496 /0785477479   \n",
       "2599                                                                                                                                                                                                                                                                                                                                                                                                                                                                                                                                                                                             Ifite ibyumba 5nasaro nasara  nadushe natuwarete 4nakwizi nannexes+250785477479 /0784455496   \n",
       "\n",
       "         Size Bedrooms Bathrooms Quarters Wardrobes Cabinets Balcony Parking  \n",
       "0     1558sqm        6         1      NaN       NaN      NaN     NaN     Yes  \n",
       "1         NaN      NaN       NaN      NaN       NaN      NaN     NaN     NaN  \n",
       "2         NaN      NaN       NaN      NaN       NaN      NaN     NaN     NaN  \n",
       "3         NaN        4         3      NaN       NaN      NaN     NaN     NaN  \n",
       "4         NaN      NaN       NaN      NaN       NaN      NaN     NaN     NaN  \n",
       "...       ...      ...       ...      ...       ...      ...     ...     ...  \n",
       "2595  1500sqm        5         4      Yes       NaN      NaN     NaN     Yes  \n",
       "2596      NaN        3         2      Yes       NaN      NaN     NaN     NaN  \n",
       "2597      NaN        5       NaN      Yes       NaN      NaN     NaN     NaN  \n",
       "2598      NaN        5         4      Yes       NaN      NaN     NaN     NaN  \n",
       "2599      NaN        5         4      Yes       NaN      NaN     NaN     NaN  \n",
       "\n",
       "[2600 rows x 13 columns]"
      ]
     },
     "execution_count": 9,
     "metadata": {},
     "output_type": "execute_result"
    }
   ],
   "source": [
    "imali"
   ]
  },
  {
   "cell_type": "code",
   "execution_count": 10,
   "metadata": {
    "ExecuteTime": {
     "end_time": "2021-03-16T07:28:06.622972Z",
     "start_time": "2021-03-16T07:28:06.609032Z"
    }
   },
   "outputs": [],
   "source": [
    "#Saving the dataset to csv\n",
    "#imali.to_csv('kigali houses.csv', index = False)"
   ]
  }
 ],
 "metadata": {
  "kernelspec": {
   "display_name": "Python 3",
   "language": "python",
   "name": "python3"
  },
  "language_info": {
   "codemirror_mode": {
    "name": "ipython",
    "version": 3
   },
   "file_extension": ".py",
   "mimetype": "text/x-python",
   "name": "python",
   "nbconvert_exporter": "python",
   "pygments_lexer": "ipython3",
   "version": "3.8.5"
  },
  "toc": {
   "base_numbering": 1,
   "nav_menu": {},
   "number_sections": true,
   "sideBar": true,
   "skip_h1_title": false,
   "title_cell": "Table of Contents",
   "title_sidebar": "Contents",
   "toc_cell": false,
   "toc_position": {},
   "toc_section_display": true,
   "toc_window_display": false
  },
  "varInspector": {
   "cols": {
    "lenName": 16,
    "lenType": 16,
    "lenVar": 40
   },
   "kernels_config": {
    "python": {
     "delete_cmd_postfix": "",
     "delete_cmd_prefix": "del ",
     "library": "var_list.py",
     "varRefreshCmd": "print(var_dic_list())"
    },
    "r": {
     "delete_cmd_postfix": ") ",
     "delete_cmd_prefix": "rm(",
     "library": "var_list.r",
     "varRefreshCmd": "cat(var_dic_list()) "
    }
   },
   "types_to_exclude": [
    "module",
    "function",
    "builtin_function_or_method",
    "instance",
    "_Feature"
   ],
   "window_display": false
  }
 },
 "nbformat": 4,
 "nbformat_minor": 2
}
